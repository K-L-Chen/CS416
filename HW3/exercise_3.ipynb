{
 "cells": [
  {
   "cell_type": "markdown",
   "id": "6531f0a4",
   "metadata": {},
   "source": [
    "# CSCI 416 - HW3\n",
    "\n",
    "### Name: Kyle Chen"
   ]
  },
  {
   "cell_type": "code",
   "execution_count": null,
   "id": "7918c7f3",
   "metadata": {},
   "outputs": [],
   "source": []
  },
  {
   "cell_type": "markdown",
   "id": "b7f98c2b",
   "metadata": {},
   "source": [
    "# <font color='red'>Problem 3</font>\n"
   ]
  },
  {
   "cell_type": "code",
   "execution_count": 5,
   "id": "fdabbad0",
   "metadata": {},
   "outputs": [
    {
     "name": "stdout",
     "output_type": "stream",
     "text": [
      "\n",
      "=====================================\n",
      "Test SVM with custom Gaussian kernels\n",
      "=====================================\n",
      "\n",
      "\n",
      "Author: Eric Eaton, 2014\n",
      "\n",
      "Adapted from scikit_learn documentation.\n",
      "\n",
      "\n",
      "Training the SVMs...\n",
      "[71.0, 10.0, 0.9846153846153847]\n"
     ]
    }
   ],
   "source": [
    "\"\"\"\n",
    "=====================================\n",
    "Test SVM with custom Gaussian kernels\n",
    "=====================================\n",
    "\n",
    "\n",
    "Author: Eric Eaton, 2014\n",
    "\n",
    "Adapted from scikit_learn documentation.\n",
    "\n",
    "\"\"\"\n",
    "print(__doc__)\n",
    "\n",
    "from numpy import loadtxt, ones, zeros, where\n",
    "import numpy as np\n",
    "import matplotlib.pyplot as plt\n",
    "from sklearn import svm, datasets\n",
    "from svmKernels import myGaussianKernel\n",
    "from svmKernels import _gaussSigma\n",
    "\n",
    "# import some data to play with\n",
    "\n",
    "filename = 'data/svmTuningData.dat'\n",
    "data = loadtxt(filename, delimiter=',')\n",
    "X_raw = data[:, 0:-1]\n",
    "Y_raw = np.squeeze(np.array([data[:, 2]]).T)\n",
    "m, d = X_raw.shape\n",
    "#print(m,d)\n",
    "\n",
    "print(\"Training the SVMs...\")\n",
    "\n",
    "trials = 2\n",
    "folds = 10\n",
    "fold_size = m//folds\n",
    "train_size = fold_size * (folds - 1)\n",
    "#print(fold_size, train_size)\n",
    "validation_size = fold_size\n",
    "\n",
    "\n",
    "\n",
    "# Best parameters\n",
    "best=[0,0,0]\n",
    "\n",
    "# Search parameters through a grid \n",
    "#TODO: CHANGE THIS PART\n",
    "\n",
    "sigma_vals = 10**np.arange(-3., 5.)\n",
    "C_vals = np.linspace(1,100, num=100)\n",
    "\n",
    "for c in range(0,100):\n",
    "    for g in range(0,8):\n",
    "      C = C_vals[c]\n",
    "      _gaussSigma = sigma_vals[g]\n",
    "      accuracy = 0\n",
    "    \n",
    "      for t  in range(0,trials):  \n",
    "        \n",
    "        #randomize the data set\n",
    "        p = np.random.permutation(m)\n",
    "        order = p[0:m]\n",
    "        X = X_raw[order,:]\n",
    "        Y = Y_raw[order]\n",
    "    \n",
    "        for f in range(0,folds):\n",
    "\n",
    "            #cross validation: get train set and test set   \n",
    "            # TODO \n",
    "            # You need to finish the following for cross validation\n",
    "            r1, c1 = X.shape\n",
    "\n",
    "            #get areas ahead and behind of testing data\n",
    "            if(f == 0):\n",
    "              X_train = X[(f+1)*(int)(r1/folds):,:]\n",
    "              Y_train = Y[(f+1)*(int)(r1/folds):]\n",
    "            elif f > folds - 1:\n",
    "              X_train = X[:(f-1)*(int)(r1/folds),:]\n",
    "              Y_train = Y[:(f-1)*(int)(r1/folds):]\n",
    "            else:\n",
    "              X_train = np.concatenate((X[:(f)*(int)(r1/folds),:], X[(f + 1)*(int)(r1/folds):,:]))\n",
    "              Y_train = np.concatenate((Y[:(f)*(int)(r1/folds)], Y[(f + 1)*(int)(r1/folds):]))\n",
    "            \n",
    "            #print(\"training: \", X_train.shape)\n",
    "            #number of values per fold is X.shape[0] / folds\n",
    "            #multiply by f to get start\n",
    "            X_test = X[(int)(f*r1 / folds) : (int)((f + 1)*r1 / folds), :]\n",
    "            Y_test = Y[(int)(f*r1 / folds) : (int)((f + 1)*r1 / folds)]\n",
    " \n",
    "            # create an instance of SVM with build in RBF kernel and train it\n",
    "            equivalentGamma = 1.0 / (2 * _gaussSigma ** 2)\n",
    "            model = svm.SVC(C=C, kernel='rbf', gamma=equivalentGamma)\n",
    "            model.fit(X_train, Y_train)\n",
    "\n",
    "            predictions_test = model.predict(np.c_[X_test[:,0],X_test[:,1]])\n",
    "            a = np.mean(Y_test==predictions_test)\n",
    "            accuracy += a\n",
    "            \n",
    "            \n",
    "        # Best Accuracy So Far\n",
    "        average_accuracy = accuracy/(folds*trials)\n",
    "        if average_accuracy > best[2]:\n",
    "            best[0] = C\n",
    "            best[1] = _gaussSigma\n",
    "            best[2] = average_accuracy\n",
    "            \n",
    "\n",
    "print(best)      "
   ]
  },
  {
   "cell_type": "code",
   "execution_count": null,
   "id": "69c4f285",
   "metadata": {},
   "outputs": [],
   "source": []
  },
  {
   "cell_type": "code",
   "execution_count": 6,
   "id": "d37032e7",
   "metadata": {},
   "outputs": [
    {
     "name": "stdout",
     "output_type": "stream",
     "text": [
      "The best parameters are:  [71.0, 10.0, 0.9846153846153847]\n"
     ]
    },
    {
     "data": {
      "image/png": "[encoded data removed]",
      "text/plain": [
       "<Figure size 800x600 with 1 Axes>"
      ]
     },
     "metadata": {},
     "output_type": "display_data"
    }
   ],
   "source": [
    "# create an instance of SVM with build in RBF kernel and train it\n",
    "print(\"The best parameters are: \", best)\n",
    "C = best[0]\n",
    "_gaussSigma = best[1]\n",
    "equivalentGamma = 1.0 / (2 * _gaussSigma ** 2)\n",
    "model = svm.SVC(C=C, kernel='rbf', gamma=equivalentGamma)\n",
    "model.fit(X, Y)\n",
    "\n",
    "h = .02  # step size in the mesh\n",
    "\n",
    "# Plot the decision boundary. For that, we will assign a color to each\n",
    "# point in the mesh [x_min, m_max]x[y_min, y_max].\n",
    "x_min, x_max = X[:, 0].min() - 1, X[:, 0].max() + 1\n",
    "y_min, y_max = X[:, 1].min() - 1, X[:, 1].max() + 1\n",
    "xx, yy = np.meshgrid(np.arange(x_min, x_max, h), np.arange(y_min, y_max, h))\n",
    "\n",
    "\n",
    "predictions = model.predict(np.c_[xx.ravel(), yy.ravel()])\n",
    "predictions = predictions.reshape(xx.shape)\n",
    "\n",
    "# plot my results\n",
    "plt.figure(figsize=(8, 6), dpi=100)\n",
    "\n",
    "plt.pcolormesh(xx, yy, predictions, cmap=\"Paired\")\n",
    "plt.scatter(X[:, 0], X[:, 1], c=Y, cmap=\"Paired\", edgecolors=\"black\")  # Plot the training points\n",
    "plt.title('SVM with Equivalent Scikit_learn RBF Kernel for Comparison')\n",
    "plt.axis('tight')\n",
    "\n",
    "plt.show()"
   ]
  },
  {
   "cell_type": "code",
   "execution_count": null,
   "id": "38eedd98",
   "metadata": {},
   "outputs": [],
   "source": []
  },
  {
   "cell_type": "markdown",
   "id": "b59475b1",
   "metadata": {},
   "source": [
    " Report optimal values and the corresponding estimated accuracy. And explain how you find those optimal values.\n",
    " "
   ]
  },
  {
   "cell_type": "markdown",
   "id": "d2b4e425",
   "metadata": {},
   "source": [
    " The optimal C value varies on initial run, but is between 50 and 80, with the corresponding gaussian sigma value being 10 in all cases. We find these values by checking the highest accuracy run and taking the values from that. For example, if the highest accuracy run of 98%, then we get the C and gaussian sigma value from that.\n",
    "\n",
    " In the latest case, then, we have C = 71.0, gaussian sigma = 10, and accuracy = 0.9846153846153847."
   ]
  },
  {
   "cell_type": "code",
   "execution_count": null,
   "id": "8ef558bf",
   "metadata": {},
   "outputs": [],
   "source": []
  },
  {
   "cell_type": "code",
   "execution_count": null,
   "id": "5121ed8a",
   "metadata": {},
   "outputs": [],
   "source": []
  },
  {
   "cell_type": "code",
   "execution_count": null,
   "id": "f10b3a05",
   "metadata": {},
   "outputs": [],
   "source": []
  },
  {
   "cell_type": "markdown",
   "id": "7848c8b7",
   "metadata": {},
   "source": [
    "# <font color='red'>Problem 4</font>\n"
   ]
  },
  {
   "cell_type": "markdown",
   "id": "5d05fc9b",
   "metadata": {
    "nbpresent": {
     "id": "bd219f5b-9c65-4402-94f0-5e1933cc040f"
    }
   },
   "source": [
    "$$\n",
    "\\renewcommand{\\R}{\\mathbb{R}}\n",
    "\\renewcommand{\\b}{\\mathbf}\n",
    "\\renewcommand{\\u}{\\mathbf{u}}\n",
    "\\renewcommand{\\v}{\\mathbf{v}}\n",
    "$$\n",
    "\n",
    "\n",
    "# Movie Recommendations\n",
    "\n",
    "\n",
    "| user  | Moonlight | The Shape of Water   | Frozen | Moana     |\n",
    "|-------|-----------|----------------------|--------|-----------| \n",
    "|Alice  |   5       |          4           |    1   |           |\n",
    "|Bob    |           |          5           |        |    2      |\n",
    "|Carol  |           |                      |        |    5      |\n",
    "|David  |           |                      |    5   |    5      |\n",
    "|Eve    |   5       |          4           |        |           |\n",
    "\n",
    "\n",
    "What movie should I recommend to Bob?\n",
    "Will Carol like Frozen?\n",
    "\n",
    "**Goal**: Fill in entries of the \"rating matrix\""
   ]
  },
  {
   "cell_type": "markdown",
   "id": "71b52836",
   "metadata": {
    "nbpresent": {
     "id": "417fa0e4-6c70-4b9f-a42c-876215db961d"
    }
   },
   "source": [
    "# Problem Setup\n",
    "\n",
    "Let's formalize this as a machine learning problem. To make it concrete, let's load some data and see what it looks like."
   ]
  },
  {
   "cell_type": "code",
   "execution_count": 8,
   "id": "14cc4e96",
   "metadata": {
    "nbpresent": {
     "id": "7121a063-dcd8-4ef3-9b68-fdeb4690a1aa"
    }
   },
   "outputs": [
    {
     "data": {
      "text/html": [
       "<div>\n",
       "<style scoped>\n",
       "    .dataframe tbody tr th:only-of-type {\n",
       "        vertical-align: middle;\n",
       "    }\n",
       "\n",
       "    .dataframe tbody tr th {\n",
       "        vertical-align: top;\n",
       "    }\n",
       "\n",
       "    .dataframe thead th {\n",
       "        text-align: right;\n",
       "    }\n",
       "</style>\n",
       "<table border=\"1\" class=\"dataframe\">\n",
       "  <thead>\n",
       "    <tr style=\"text-align: right;\">\n",
       "      <th></th>\n",
       "      <th>user_id</th>\n",
       "      <th>movie_id</th>\n",
       "      <th>rating</th>\n",
       "      <th>title</th>\n",
       "    </tr>\n",
       "  </thead>\n",
       "  <tbody>\n",
       "    <tr>\n",
       "      <th>2070</th>\n",
       "      <td>0</td>\n",
       "      <td>242</td>\n",
       "      <td>1</td>\n",
       "      <td>Jungle2Jungle (1997)</td>\n",
       "    </tr>\n",
       "    <tr>\n",
       "      <th>2175</th>\n",
       "      <td>0</td>\n",
       "      <td>73</td>\n",
       "      <td>1</td>\n",
       "      <td>Faster Pussycat! Kill! Kill! (1965)</td>\n",
       "    </tr>\n",
       "    <tr>\n",
       "      <th>984</th>\n",
       "      <td>0</td>\n",
       "      <td>101</td>\n",
       "      <td>2</td>\n",
       "      <td>Aristocats, The (1970)</td>\n",
       "    </tr>\n",
       "    <tr>\n",
       "      <th>2400</th>\n",
       "      <td>0</td>\n",
       "      <td>236</td>\n",
       "      <td>2</td>\n",
       "      <td>Jerry Maguire (1996)</td>\n",
       "    </tr>\n",
       "    <tr>\n",
       "      <th>4364</th>\n",
       "      <td>0</td>\n",
       "      <td>179</td>\n",
       "      <td>3</td>\n",
       "      <td>Apocalypse Now (1979)</td>\n",
       "    </tr>\n",
       "    <tr>\n",
       "      <th>...</th>\n",
       "      <td>...</td>\n",
       "      <td>...</td>\n",
       "      <td>...</td>\n",
       "      <td>...</td>\n",
       "    </tr>\n",
       "    <tr>\n",
       "      <th>1373</th>\n",
       "      <td>942</td>\n",
       "      <td>61</td>\n",
       "      <td>3</td>\n",
       "      <td>Stargate (1994)</td>\n",
       "    </tr>\n",
       "    <tr>\n",
       "      <th>724</th>\n",
       "      <td>942</td>\n",
       "      <td>150</td>\n",
       "      <td>4</td>\n",
       "      <td>Willy Wonka and the Chocolate Factory (1971)</td>\n",
       "    </tr>\n",
       "    <tr>\n",
       "      <th>1883</th>\n",
       "      <td>942</td>\n",
       "      <td>23</td>\n",
       "      <td>4</td>\n",
       "      <td>Rumble in the Bronx (1995)</td>\n",
       "    </tr>\n",
       "    <tr>\n",
       "      <th>3403</th>\n",
       "      <td>942</td>\n",
       "      <td>731</td>\n",
       "      <td>4</td>\n",
       "      <td>Dave (1993)</td>\n",
       "    </tr>\n",
       "    <tr>\n",
       "      <th>1851</th>\n",
       "      <td>942</td>\n",
       "      <td>11</td>\n",
       "      <td>5</td>\n",
       "      <td>Usual Suspects, The (1995)</td>\n",
       "    </tr>\n",
       "  </tbody>\n",
       "</table>\n",
       "<p>5000 rows × 4 columns</p>\n",
       "</div>"
      ],
      "text/plain": [
       "      user_id  movie_id  rating                                         title\n",
       "2070        0       242       1                          Jungle2Jungle (1997)\n",
       "2175        0        73       1           Faster Pussycat! Kill! Kill! (1965)\n",
       "984         0       101       2                        Aristocats, The (1970)\n",
       "2400        0       236       2                          Jerry Maguire (1996)\n",
       "4364        0       179       3                         Apocalypse Now (1979)\n",
       "...       ...       ...     ...                                           ...\n",
       "1373      942        61       3                               Stargate (1994)\n",
       "724       942       150       4  Willy Wonka and the Chocolate Factory (1971)\n",
       "1883      942        23       4                    Rumble in the Bronx (1995)\n",
       "3403      942       731       4                                   Dave (1993)\n",
       "1851      942        11       5                    Usual Suspects, The (1995)\n",
       "\n",
       "[5000 rows x 4 columns]"
      ]
     },
     "metadata": {},
     "output_type": "display_data"
    }
   ],
   "source": [
    "%matplotlib inline\n",
    "import numpy as np\n",
    "import matplotlib.pyplot as plt\n",
    "import pandas as pd\n",
    "from IPython.display import display\n",
    "import scipy.io\n",
    "\n",
    "# Load train and test data\n",
    "data = scipy.io.loadmat('movies.mat')\n",
    "\n",
    "titles = [t[0] for t in data['movieData']['title'][0,0].ravel()]\n",
    "\n",
    "for x,y in data.items():\n",
    "    if isinstance(y, (np.ndarray)) and len(y)==1:\n",
    "        data[x] = np.ndarray.item(y)#np.asscalar(y)\n",
    "    elif isinstance(y, (np.ndarray)):\n",
    "        data[x] = y.ravel()\n",
    "\n",
    "nUsers    = data['nUsers']\n",
    "nMovies   = data['nMovies']\n",
    "userData  = data['userData']\n",
    "movieData = data['movieData']\n",
    "\n",
    "train_user   = data['train_user']-1   # matlab 1-index correction\n",
    "train_movie  = data['train_movie']-1  # matlab 1-index correction\n",
    "train_rating = data['train_rating']\n",
    "\n",
    "valid_user   = data['valid_user']-1   # matlab 1-index correction\n",
    "valid_movie  = data['valid_movie']-1  # matlab 1-index correction\n",
    "valid_rating = data['valid_rating']\n",
    "\n",
    "test_user    = data['test_user']-1    # matlab 1-index correction\n",
    "test_movie   = data['test_movie']-1   # matlab 1-index correction\n",
    "\n",
    "\n",
    "# Create a pandas data frame for training data to facilitate\n",
    "# visualization and inspection\n",
    "\n",
    "train_title = [titles[i] for i in train_movie]\n",
    "\n",
    "train_data = pd.DataFrame(data = {'user_id' : train_user, \n",
    "                                  'movie_id' : train_movie,\n",
    "                                  'rating' : train_rating,\n",
    "                                  'title': train_title}, \n",
    "                         columns = ['user_id', 'movie_id', 'rating', 'title'])\n",
    "\n",
    "# subsample to 5000 rows to more easily see a small sampling of ratings for each user\n",
    "train_data = train_data[:5000]\n",
    "\n",
    "# sort by user\n",
    "train_data = train_data.sort_values(by=['user_id', 'rating'])\n",
    "\n",
    "display(train_data)"
   ]
  },
  {
   "cell_type": "markdown",
   "id": "a6fd5cf8",
   "metadata": {
    "nbpresent": {
     "id": "4d66fcd3-b9d3-49cf-a93c-0f4bdcfbf534"
    }
   },
   "source": [
    "## Training Data\n",
    "As we can see, the training data presents observed entries of the \"ratings\" matrix as list of triples $(i_k, j_k, r_k)$ where\n",
    "\n",
    "* $i_k$ is the user index of $k$th rating\n",
    "* $j_k$ is the movie index of $k$th rating\n",
    "* $r_k$ is the value of $k$th rating (1-5)\n",
    "\n",
    "In our code we will store the entries of the tuples in three separate 1d arrays of the same length, so the $k$th rating is represented by the values ``train_user[k]``, ``train_movie[k]``, and ``train_rating[k]``."
   ]
  },
  {
   "cell_type": "markdown",
   "id": "c95265c9",
   "metadata": {
    "nbpresent": {
     "id": "33f22eff-c565-4acc-bd8d-5d40678cb1e5"
    }
   },
   "source": [
    "## Problem Formulation\n",
    "\n",
    "Now, let's formulate the problem mathematically. Suppose there are $m$ users and $n$ movies. \n",
    "Let $R$ be the $m \\times n$ \"rating\" matrix, where $R_{ij}$ is the (possibly unknown) rating for user $i$ on movie $j$. \n",
    "\n",
    "Our training data gives us some of the entries of the rating matrix. Our goal\n",
    "is to learn a parametric model to predict entries that we don't observe.\n",
    "\n",
    "#### But Where are the Features?\n",
    "\n",
    "What sort of predictive model can we use for entries of $R$? \n",
    "\n",
    "In past learning problems we had *feature vectors* and we learned *weight vectors* to make predictions (using dot products). \n",
    "\n",
    "Now we do not have feature vectors. What should we do?"
   ]
  },
  {
   "cell_type": "markdown",
   "id": "e1e10198",
   "metadata": {
    "nbpresent": {
     "id": "ad3301d3-5e9b-4f82-8180-9410aa5fd885"
    }
   },
   "source": [
    "## Matrix Factorization Model\n",
    "\n",
    "Our solution is to **learn weight vectors for both users and movies**. \n",
    "\n",
    "Let $\\u_i \\in \\R^d$ be the weight vector for use $i$ and $\\v_j \\in \\R^d$ be the weight vector for movie $j$. Then we can predict the rating for user $i$ on movie $j$ as:\n",
    "\n",
    "$$\n",
    "H_{ij} =\\u_i^T \\v_j\n",
    "$$\n",
    "\n",
    "Our goal is to learn weight vectors for every user and movie so that $R_{ij} \\approx H_{ij}$ for those entries of the rating matrix that we observe.\n",
    "\n",
    "**Problem statement**: \n",
    "Given observed entries of the rating matrix presented as triples $(i_k, j_k, r_k)$ for $k=1, \\ldots, n_{\\text{train}}$, find weight vectors $\\mathbf{u_i}$ for each user $i$ and $\\mathbf{v}_j$ for each movie $j$ such that:\n",
    "$$\n",
    "r_k \\approx \\mathbf{u_{i_k}}^T \\mathbf{v_{j_k}}, \\quad k=1, 2, \\ldots, n_{\\text{train}}\n",
    "$$"
   ]
  },
  {
   "cell_type": "markdown",
   "id": "3c8f43ed",
   "metadata": {
    "nbpresent": {
     "id": "3f68ec3c-1530-4569-abd9-306b981a638b"
    }
   },
   "source": [
    "## Why is This Called Matrix Factorization?\n",
    "\n",
    "* Place the user weight vectors $\\u_i$ into the rows of a matrix\n",
    "  $U$ and the movie feature vectors $\\v_j$ into\n",
    "  the rows of a matrix $V$\n",
    "\n",
    "    $$ \n",
    "    \\renewcommand{\\line}{-}\n",
    "    U =\n",
    "        \\begin{bmatrix}\n",
    "            \\line \\u_1^T \\line \\\\\n",
    "            \\line \\u_2^T \\line \\\\\n",
    "            \\ldots \\\\\n",
    "            \\line \\u_m^T \\line \\\\\n",
    "        \\end{bmatrix} \\in \\R^{m \\times d}\n",
    "    \\qquad\n",
    "    V =\n",
    "        \\begin{bmatrix}\n",
    "            \\line \\v_1^T \\line \\\\\n",
    "            \\line \\v_2^T \\line \\\\\n",
    "            \\ldots \\\\\n",
    "            \\line \\v_n^T \\line \\\\\n",
    "        \\end{bmatrix} \\in \\R^{n \\times d}\n",
    "    $$\n",
    "\n",
    "* Consider the product $U V^T$:\n",
    "\n",
    "    $$\n",
    "    \\boxed{\n",
    "        \\begin{array}{c}\n",
    "            \\\\\n",
    "            U \\\\\n",
    "            \\\\\n",
    "        \\end{array}\n",
    "        }\n",
    "    \\boxed{\n",
    "        \\begin{array}{c}\n",
    "            \\ \\ \\ V^T \\ \\ \\ \n",
    "        \\end{array}\n",
    "        }\n",
    "    $$\n",
    "  \n",
    "* It is easy to check that $(i,j)$ entry of $UV^T$ is equal to $\\u_i^T\n",
    "  \\v_j$, which is our prediction for the $(i,j)$ entry of $R$\n",
    "\n",
    "* In other words, our model is that $R \\approx U V^T$ (a **factorization**\n",
    "  of $R$)\n",
    "\n",
    "* We choose $U$ and $V$ to get good predictions for those entries of\n",
    "  $R$ that we can observe. As long as we don't overfit, this gives us\n",
    "  power to generalize to entries we don't observe\n",
    "  \n",
    "* The \"hidden dimension\" $d$ (the length of each weight vector) is a hyperparameter\n",
    "  that must be tuned with hold-out data.\n",
    "  "
   ]
  },
  {
   "cell_type": "markdown",
   "id": "d93d7def",
   "metadata": {
    "nbpresent": {
     "id": "c743c2d0-2dc4-4101-881c-01053255f632"
    }
   },
   "source": [
    "## Your Job: Solve the Learning Problem \n",
    "\n",
    "* Formulate a squared error cost function corresponding to the problem statement above.\n",
    "* Add regularization for *every* user weight vector $\\u_i$ and movie weight vector $\\v_j$ to get a regularized cost function\n",
    "* Write down the partial derivatives of your regularized cost function with\n",
    "  respect to the entries of $\\u_i$ and $\\v_j$\n",
    "* Plug the partial derivatives into stochastic gradient descent (SGD)\n",
    "  and write down the update rule\n",
    "* Implement SGD\n",
    "* Tune parameters (e.g., dimension $d$, regularization parameter) get good performance on the validation set"
   ]
  },
  {
   "cell_type": "markdown",
   "id": "990b964a",
   "metadata": {
    "nbpresent": {
     "id": "25aa92a1-20c9-4206-9133-ab31f96cb321"
    }
   },
   "source": [
    "## Logistics\n",
    "\n",
    "\n",
    "* Submit predictions on test set \n",
    "* Evaluation: root-mean squared error (RMSE) on test set\n",
    "\n",
    "    $$ \\text{RMSE} = \\sqrt{\\frac{1}{n_{\\text{test}}}\\sum_{(i,j) \\in \\text{test set}} (H_{ij} - R_{ij})^2}$$\n",
    "\n",
    "* Your grade:\n",
    "\n",
    "| RMSE   |  grade  |\n",
    "|--------|---------|\n",
    "|<= 1.0  |  80%    |\n",
    "|<= 0.97 |  90%    |\n",
    "|<= 0.95 |   95%   |\n",
    "|<= 0.94 |  100%   ||\n",
    "\n"
   ]
  },
  {
   "cell_type": "markdown",
   "id": "baa53218",
   "metadata": {
    "nbpresent": {
     "id": "597ff142-4663-4ddb-bc6f-7b71e1127cc0"
    }
   },
   "source": [
    "## (Review on your own) Model Extension: Add Biases\n",
    "\n",
    "To get really great performance, consider this extended model for a predicted rating:\n",
    "\n",
    "$$\n",
    "H_{ij} = \\mu + a_i + b_j + {\\u}_i^T \\v_j\n",
    "$$\n",
    "\n",
    "This adds several terms to the prediction for user $i$ on movie $j$:\n",
    "\n",
    "* $\\mu$ is an overall baseline rating. For example, the overall average rating of all users\n",
    "  on all movies may be $\\mu = 3.3$\n",
    "  \n",
    "* $a_i$ is a user-specific adjustment or \"bias\". For example, perhaps Alice\n",
    "  really loves movies and gives them all high ratings. Then, her bias \n",
    "  might be $a_i = +0.4$. But Bob is hard to please, so his bias is $a_i = -0.7$.\n",
    "  \n",
    "* $b_j$ is a movie-specific bias. For example, perhaps Inside Out is universally\n",
    "  loved, so its bias is $b_j = +0.7$. A really bad movie would have a negative bias.\n",
    "\n",
    "The set of parameters of this model includes:\n",
    "\n",
    "* $\\mu$ \n",
    "* $a_i$, $i=1,\\ldots, m$\n",
    "* $b_j$, $j=1,\\ldots, n$\n",
    "* $\\u_i \\in \\R^d$, $i=1,\\ldots, m$\n",
    "* $\\v_j \\in \\R^d$, $j=1,\\ldots, n$\n",
    "\n",
    "To learn these parameters, derive partial derivatives of the regularized\n",
    "cost function with respect to *all* of the above parameters, and update\n",
    "them all within your stochastic gradient descent loop."
   ]
  },
  {
   "cell_type": "markdown",
   "id": "a1e36164",
   "metadata": {},
   "source": [
    "## Further Reading\n",
    "[Matrix Factorization Techniques for Recommender\n",
    "Systems](https://datajobs.com/data-science-repo/Recommender-Systems-[Netflix].pdf)\n",
    "by Yehuda Koren, Robert Bell and Chris Volinsky\n",
    "\n",
    "* Authors were on the winning team of Netflix prize\n",
    "\n",
    "* Paper includes algorithms---but beware different notation"
   ]
  },
  {
   "cell_type": "markdown",
   "id": "e63d0367",
   "metadata": {},
   "source": [
    "## Step 0: Familiarize Yourself With Variables\n",
    "\n",
    "Here are the variables we populated while loading the data above --- make sure you run that cell first."
   ]
  },
  {
   "cell_type": "code",
   "execution_count": null,
   "id": "bb2603a0",
   "metadata": {},
   "outputs": [],
   "source": [
    "# 1) Metadata\n",
    "#     \n",
    "#     nUsers     # of users\n",
    "#     nMovies    # of movies\n",
    "#     titles     list of movie titles\n",
    "#\n",
    "#\n",
    "# 2) Training data (60K ratings). This consists of three 1d arrays, \n",
    "#    each of length 60K:\n",
    "#\n",
    "#      train_user, train_movie, train_rating\n",
    "#\n",
    "#    The entries specify the ratings:\n",
    "#   \n",
    "#      train_user[k]    user index  of kth rating\n",
    "#      train_movie[k]   movie index of kth rating\n",
    "#      train_rating[k]  value (1-5) of kth rating\n",
    "#\n",
    "# 2) Validation data (20K ratings). Three vectors of length 20K:\n",
    "#\n",
    "#      valid_user, valid_movie, valid_rating\n",
    "#   \n",
    "#    Use this to evaluate your model and tune parameters.\n",
    "#    \n",
    "# 3) Test set (20K user-movie pairs without ratings):\n",
    "#\n",
    "#      test_user, test_movie\n",
    "#\n",
    "#    You will create predictions for these pairs and submit them for \n",
    "#    grading."
   ]
  },
  {
   "cell_type": "markdown",
   "id": "0e9de3ef",
   "metadata": {},
   "source": [
    "## Step 1: Look at the Prediction Method\n",
    "\n",
    "To make things concrete, first take a look at the prediction method below. This is just a stub for now that returns the same value ``mu`` for every prediction. Later you will update this to make predictions given the weight vectors and biases."
   ]
  },
  {
   "cell_type": "code",
   "execution_count": 179,
   "id": "fb8d1555",
   "metadata": {
    "nbpresent": {
     "id": "46a5a100-4e08-43e9-a313-ea1a0f06d149"
    }
   },
   "outputs": [],
   "source": [
    "def rmse(h, r):\n",
    "    resid = h - r\n",
    "    cost = np.sqrt(np.mean(resid**2))\n",
    "    return cost\n",
    "\n",
    "#users_original can be train_users, valid_users, test_users, etc.\n",
    "#entries are ids of users, movies\n",
    "def predict(mu, user_weights, movie_weights, users, movies, biasi, biasx):\n",
    "    '''\n",
    "    PREDICT Make predictions for user/movie pairs\n",
    "    Inputs: \n",
    "      model parameters\n",
    "      mu                          average rating\n",
    "      user_weights                vector of user weights\n",
    "      movie_weights               vector of movie weights\n",
    "      users                       vector of user values\n",
    "      movies                      vector of movie values\n",
    "      biasi                       bias of i for user weights\n",
    "      biasx                       bias of x for movie weights\n",
    "\n",
    "    Output:\n",
    "      predictions        vector of predictions\n",
    "    '''    \n",
    "\n",
    "    L = len(users)\n",
    "    predictions = np.zeros(L)\n",
    "\n",
    "    #user[k], movie[k] corresponds to rating[k]\n",
    "    #rating[k] = range(0, 5)\n",
    "    #user[i], movie[i] are integers to correspond to indices given by i = rating[k]\n",
    "    #rxi = qipx + mu + bx + bi\n",
    "\n",
    "    #get user, movie by passing in user matrix and \n",
    "    for k in range(0, L):                   #corresponds to 0-60k/0-20k\n",
    "      #user[users_original[i]] #index for vector 'user' is users_original[i]\n",
    "      #this returns a weight array q_i (u_i)\n",
    "\n",
    "      #print(user_weights.shape)\n",
    "      i = users[k]\n",
    "      x = movies[k]\n",
    "      uivx = np.dot(user_weights[i], movie_weights[x])#.T, movie_weights[x])\n",
    "\n",
    "      predictions[k] = uivx + mu + biasi[i] + biasx[x]\n",
    "    \n",
    "    return predictions"
   ]
  },
  {
   "cell_type": "markdown",
   "id": "8c2f5603",
   "metadata": {},
   "source": [
    "## Step 2: Learning and Validation\n",
    "\n",
    "Write code here to do the learning and validation. Stubs are provided. Make sure you derive the partial derivatives on paper before you try to code them. "
   ]
  },
  {
   "cell_type": "code",
   "execution_count": 190,
   "id": "5c1f09cb",
   "metadata": {
    "nbpresent": {
     "id": "d7cfbdcb-9c6c-4b9b-9d3e-c4ff15e0c74c"
    }
   },
   "outputs": [
    {
     "name": "stdout",
     "output_type": "stream",
     "text": [
      "train_rmse=0.835, valid_rmse=0.923\n"
     ]
    }
   ],
   "source": [
    "############################################\n",
    "# Tunable parameters (you will add more)\n",
    "############################################\n",
    "\n",
    "nDims = 30\n",
    "\n",
    "#added parameters\n",
    "#l1 = 5e-3, l2 = 5e-3, lBi = 4e-3, lBx = 4e-3\n",
    "#mu1 = 2e-3, mu2 = 2e-3, mu3 = 2e-3, mu4 = 2e-3\n",
    "#iters = 50\n",
    "#nDims = 30\n",
    "#valid = 0.950\n",
    "\n",
    "lambda1 = 5e-3\n",
    "lambda2 = 5e-3\n",
    "lambdaBiasI = 2e-4#4e-3\n",
    "lambdaBiasX = 2e-4#4e-3\n",
    "\n",
    "learningRate1 = 2.5e-3\n",
    "learningRate2 = 2.5e-3\n",
    "learningRate3 = 2.5e-3\n",
    "learningRate4 = 2.5e-3\n",
    "\n",
    "############################################\n",
    "# Initialize parameters\n",
    "############################################\n",
    "\n",
    "mu = np.mean(train_rating)                # Mean ratings\n",
    "a  = np.zeros(nUsers)                     # bias for users\n",
    "b  = np.zeros(nMovies)                    # bias for movies\n",
    "U  = np.random.randn(nUsers, nDims)  *.01 # User weights\n",
    "V  = np.random.randn(nMovies, nDims) *.01 # Movie features (weights)\n",
    "\n",
    "############################################\n",
    "# Training and validation\n",
    "############################################\n",
    "\n",
    "# TODO: write code to train model and evaluate performance on validation set\n",
    "#\n",
    "#  predict() is a stub that predicts the overall mean for all user-movie\n",
    "#  pairs. Update it to take more parameters and make real predictions.\n",
    "\n",
    "#print(U.shape, V.shape)\n",
    "iters = 40\n",
    "\n",
    "#print(mu, train_user.shape, train_movie.shape, train_rating.shape)\n",
    "#print(a.shape)\n",
    "##print(U[0], V[0])\n",
    "\n",
    "#SGD\n",
    "#cost_history = []\n",
    "for iterations in range(iters):\n",
    "    #update user_weights, movie_weights, biases using GD\n",
    "    epsilon = 0\n",
    "    \n",
    "    #Update U, V, a, b\n",
    "    for k in range(len(train_rating)):\n",
    "        i = train_user[k]\n",
    "        x = train_movie[k]\n",
    "\n",
    "        #mu is mean rating\n",
    "        tempPredict = np.dot(U[i], V[x]) + mu + a[i] + b[x]#.T, V[x]) + mu + a[i] + b[x]\n",
    "        epsilon = 2*(train_rating[k] - tempPredict)\n",
    "        \n",
    "        #ATTEMPT AT WRITING COST FUNCTION\n",
    "\n",
    "        #regUi = lambda1*np.sum(np.dot(U[i].T, U[i]))\n",
    "        #regVx = lambda2*np.sum(np.dot(V[x].T, V[x]))\n",
    "        #regbx = lambdaBiasI*np.sum(a[i]*a[i])\n",
    "        #regbi = lambdaBiasX*np.sum(b[x]*b[x])\n",
    "        \n",
    "        #if iterations % 10 == 0:\n",
    "        #    cost_history.append(np.sum((epsilon / 2)*(epsilon / 2)) + 0.5 *(regUi + regVx + regbx + regbi))\n",
    "\n",
    "        #print(\"epsilon: \", epsilon)\n",
    "        U[i] = U[i] + learningRate1*(epsilon * V[x] - lambda1 * U[i])\n",
    "        V[x] = V[x] + learningRate2*(epsilon * U[i] - lambda2 * V[x])\n",
    "        a[i] = a[i] + learningRate3*(epsilon - lambdaBiasI * a[i])\n",
    "        b[x] = b[x] + learningRate4*(epsilon - lambdaBiasX * b[x])\n",
    "    #print(U.shape)\n",
    "    \n",
    "train_predictions = predict(mu, U, V, train_user, train_movie, a, b)\n",
    "valid_predictions = predict(mu, U, V, valid_user, valid_movie, a, b)\n",
    "train_rmse = rmse(train_predictions, train_rating)\n",
    "valid_rmse = rmse(valid_predictions, valid_rating)\n",
    "\n",
    "#print(U[0], V[0])\n",
    "\n",
    "print('train_rmse=%.3f, valid_rmse=%.3f' % (train_rmse, valid_rmse))\n",
    "\n",
    "############################################\n",
    "# Testing\n",
    "############################################\n",
    "\n",
    "# Make and save predictions for test set\n",
    "test_predictions = predict(mu, U, V, test_user, test_movie, a, b)\n",
    "np.savetxt('test_predictions.txt', test_predictions)\n",
    "\n",
    "#plt.plot(cost_history)\n",
    "#plt.show()"
   ]
  },
  {
   "cell_type": "markdown",
   "id": "42650e36",
   "metadata": {},
   "source": [
    "## Bonus Material: Inspect Predictions for Different Users\n",
    "\n",
    "After you have learned a good model, you may wish to interpret what it has learned. We can do this by looking at the most positive and most negative predictions for different users\n",
    "(or the movies that are bumped up or down from the baseline the most).\n",
    "\n",
    "Read and run the code below to see if you can understand the predictions. (Note: the predictions won't make sense until you have learned a good model!)"
   ]
  },
  {
   "cell_type": "code",
   "execution_count": null,
   "id": "29aa0bef",
   "metadata": {
    "nbpresent": {
     "id": "9c3800be-12ec-43a7-b24a-8cf543daf831"
    }
   },
   "outputs": [],
   "source": [
    "all_movies = range(nMovies)\n",
    "\n",
    "def get_lowest(vals):\n",
    "    most_negative = np.argsort(vals)\n",
    "    return most_negative\n",
    "\n",
    "def get_highest(vals):\n",
    "    most_negative = np.argsort(vals)\n",
    "    most_positive = most_negative[::-1]\n",
    "    return most_positive\n",
    "\n",
    "k = 8\n",
    "all_users = range(nUsers)\n",
    "users_to_examine = all_users[0:5]\n",
    "\n",
    "for user in users_to_examine:\n",
    "\n",
    "    # Changes from baseline movie predictions for this user\n",
    "    delta = np.dot(V, U[user,:])  \n",
    "\n",
    "    print('*** User %d ***' % (user))\n",
    "    print('  Top movies')\n",
    "    for i in get_highest(delta)[0:k]:\n",
    "        print('    %+.4f  %s' % (delta[i], titles[i]))\n",
    "    print('')\n",
    "    \n",
    "    print('  Bottom movies')\n",
    "    for i in get_lowest(delta)[0:k]:\n",
    "        print('    %+.4f  %s' % (delta[i], titles[i]))\n",
    "    print('')\n"
   ]
  },
  {
   "cell_type": "markdown",
   "id": "c7ec9610",
   "metadata": {
    "nbpresent": {
     "id": "496c99a6-522e-4637-aeda-aed1d27ea1a5"
    }
   },
   "source": [
    "## More Bonus Material: Interpretation of Weight Vectors as Features\n",
    "\n",
    "* So far we have described both $\\u_i$ and $\\v_j$ as *weight vectors* (since we don't have any features of movies and users). But, it is possible to interpret one or both of these vectors as **learned features**. \n",
    "\n",
    "* For example, the first learned feature may discover a preference for comedy vs. drama. In this case:\n",
    "    * The user feature value $u_{i1}$ should be high if the user likes comedies and low if the user likes dramas better.\n",
    "    * The movie feature value $v_{j1}$ should be high if the movie is a comedy and low if it is a drama. \n",
    "    \n",
    "* Similarly, feature 2 might describe whether a movie is geared toward kids or adults\n",
    "\n",
    "* In practice, the feature interpretations often find recognizable patterns but are not quite so clean to describe as the two examples above.\n",
    "\n",
    "Run the code below to examine the movies with the highest and lowest feature values for some of the features in your learned model."
   ]
  },
  {
   "cell_type": "code",
   "execution_count": null,
   "id": "487cd6c0",
   "metadata": {
    "nbpresent": {
     "id": "8d3aa776-2611-48aa-b921-84ff8f528fdf"
    }
   },
   "outputs": [],
   "source": [
    "k = 5\n",
    "\n",
    "features_to_examine = np.arange(0,10)\n",
    "\n",
    "for feature in features_to_examine:\n",
    "\n",
    "    feature_vals = V[:,feature]\n",
    "    \n",
    "    print ('*** Feature %d ***' % (feature))\n",
    "    print ('  Movies with highest feature value')\n",
    "    for i in get_highest(feature_vals)[0:k]:\n",
    "        print ('    %+.4f  %s' % (feature_vals[i], titles[i]))\n",
    "    print ('')\n",
    "    \n",
    "    print ('  Movies with lowest feature value')\n",
    "    for i in get_lowest(feature_vals)[0:k]:\n",
    "        print ('    %+.4f  %s' % (feature_vals[i], titles[i]))\n",
    "    print ('')\n"
   ]
  }
 ],
 "metadata": {
  "kernelspec": {
   "display_name": "Python 3.10.7 64-bit",
   "language": "python",
   "name": "python3"
  },
  "language_info": {
   "codemirror_mode": {
    "name": "ipython",
    "version": 3
   },
   "file_extension": ".py",
   "mimetype": "text/x-python",
   "name": "python",
   "nbconvert_exporter": "python",
   "pygments_lexer": "ipython3",
   "version": "3.10.7"
  },
  "vscode": {
   "interpreter": {
    "hash": "26de051ba29f2982a8de78e945f0abaf191376122a1563185a90213a26c5da77"
   }
  }
 },
 "nbformat": 4,
 "nbformat_minor": 5
}
